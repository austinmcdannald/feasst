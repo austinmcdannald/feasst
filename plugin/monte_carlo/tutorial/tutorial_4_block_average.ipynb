{
 "cells": [
  {
   "cell_type": "markdown",
   "metadata": {},
   "source": [
    "# Block Averaging Example\n",
    "\n",
    "\n",
    "In this example, the block averaging approach to computing error bars is considered.\n",
    "First, please read the original method: https://doi.org/10.1063/1.457480.\n",
    "Then, also consider the discussion on block averages in Appendix D of Frenkel and Smit.\n",
    "Then, we'll reproduce Frenkel and Smith's case study 4 (page 98-100 and Figure 4.4)."
   ]
  },
  {
   "cell_type": "code",
   "execution_count": 1,
   "metadata": {},
   "outputs": [],
   "source": [
    "import sys\n",
    "import unittest\n",
    "import feasst as fst\n",
    "\n",
    "class TestMonteCarlo4Block(unittest.TestCase):\n",
    "    def test_srsw(self, num_particles=108, density=0.8442, temperature=1.5, steps_per=1e5):\n",
    "        monte_carlo = fst.MonteCarlo()\n",
    "        # monte_carlo.set(fst.MakeRandomMT19937(fst.args({\"seed\": \"1234\"})))\n",
    "        monte_carlo.add(fst.MakeConfiguration(fst.args({\n",
    "            \"cubic_box_length\": str((num_particles/density)**(1./3.)),\n",
    "            \"particle_type0\": fst.install_dir() + \"/forcefield/lj.fstprt\",\n",
    "            \"cutoff0\": \"2.5\",\n",
    "        })))\n",
    "        monte_carlo.add(fst.MakePotential(fst.MakeLennardJones()))\n",
    "        monte_carlo.add(fst.MakePotential(fst.MakeLongRangeCorrections()))\n",
    "        monte_carlo.set(fst.MakeThermoParams(fst.args({\"beta\": str(1./temperature),\n",
    "                                                       \"chemical_potential\": \"1.\"})))\n",
    "        monte_carlo.set(fst.MakeMetropolis())\n",
    "        monte_carlo.add(fst.MakeTrialTranslate(fst.args({\"weight\": \"1.\", \"tunable_param\": \"2.\"})))\n",
    "        monte_carlo.add(fst.MakeTrialAdd(fst.args({\"particle_type\": \"0\"})))\n",
    "        monte_carlo.run(fst.MakeRun(fst.args({\"until_num_particles\": str(num_particles)})))\n",
    "        monte_carlo.run(fst.MakeRemoveTrial(fst.args({\"name\": \"TrialAdd\"})))\n",
    "        monte_carlo.add(fst.MakeLogAndMovie(fst.args({\n",
    "            \"steps_per\" : str(steps_per),\n",
    "            \"file_name\": \"movie\",\n",
    "            \"clear_file\": \"true\"})))\n",
    "        monte_carlo.add(fst.MakeCheckEnergyAndTune(fst.args({\"steps_per\" : str(steps_per)})))\n",
    "\n",
    "        # equilibrate\n",
    "        monte_carlo.attempt(int(1e6))\n",
    "\n",
    "        # compute average using this script\n",
    "        energy = fst.MakeAccumulator()\n",
    "\n",
    "        # production\n",
    "        for _ in range(int(1e8)):\n",
    "            monte_carlo.attempt()\n",
    "            energy.accumulate(monte_carlo.criteria().current_energy())\n",
    "        \n",
    "        print('average energy', energy.average())\n",
    "        for op in range(energy.num_block_operations()):\n",
    "            print(op, energy.block_stdev(op), energy.block_std_of_std(op))\n",
    "\n",
    "        #self.assertAlmostEqual(energy.block_stdev(13)/num_particles, 0.0012, delta=0.0004)\n",
    "        #self.assertAlmostEqual(energy.average()/num_particles, -4.4190, delta=3*energy.block_stdev(13)/num_particles)\n",
    "       "
   ]
  },
  {
   "cell_type": "markdown",
   "metadata": {},
   "source": [
    "If the test passes, the energy is within the tolerance of the SRSW value and the two ensemble average methods agreed."
   ]
  },
  {
   "cell_type": "code",
   "execution_count": 2,
   "metadata": {},
   "outputs": [
    {
     "name": "stderr",
     "output_type": "stream",
     "text": [
      "test_srsw (__main__.TestMonteCarlo4Block) ... "
     ]
    },
    {
     "name": "stdout",
     "output_type": "stream",
     "text": [
      "CPU times: user 8 µs, sys: 0 ns, total: 8 µs\n",
      "Wall time: 15 µs\n",
      "average energy -576.5408969939979\n",
      "0 0.0014677554888216202 2.3057219522546113e-05\n",
      "1 0.002074833423781676 3.876090615096549e-05\n",
      "2 0.0029323809037425036 6.514611200974192e-05\n",
      "3 0.004142167773492622 0.00010943411761494251\n",
      "4 0.005844603302097843 0.0001836267450924812\n",
      "5 0.008228670028531814 0.00030744261495308347\n",
      "6 0.011535650706683156 0.0005125425117659157\n",
      "7 0.01604201498283397 0.000847665877219287\n",
      "8 0.021989291856637293 0.0013817730699711033\n",
      "9 0.029439841014460337 0.0022003232519833657\n",
      "10 0.03812126183550771 0.0033892288793152684\n",
      "11 0.04744740126815196 0.005020401506669375\n",
      "12 0.056964589516646714 0.007196894309296476\n",
      "13 0.06585558550815984 0.01003017124000322\n",
      "14 0.07391824998954556 0.013665579361543532\n",
      "15 0.07946704584674782 0.018029748815872975\n",
      "16 0.08342377888053773 0.02395333791808359\n",
      "17 0.0864155468760853 0.030148152258521868\n",
      "18 0.08571832088343663 0.03296743627085486\n",
      "19 0.0842442920619326 0.03772153330032034\n",
      "20 0.07814295877703717 0.03885926383268512\n",
      "21 0.08486966276231915 0.05025487872549931\n",
      "22 0.08812120662313475 0.06493643659728955\n",
      "23 0.08738954954385053 0.07476743906106102\n",
      "24 0.12378117176193439 0.12035265958884629\n"
     ]
    },
    {
     "name": "stderr",
     "output_type": "stream",
     "text": [
      "ok\n",
      "\n",
      "----------------------------------------------------------------------\n",
      "Ran 1 test in 1778.262s\n",
      "\n",
      "OK\n"
     ]
    },
    {
     "data": {
      "text/plain": [
       "<unittest.main.TestProgram at 0x7fc570107d00>"
      ]
     },
     "execution_count": 2,
     "metadata": {},
     "output_type": "execute_result"
    }
   ],
   "source": [
    "%time  # Note: any line starting with % is only to be used with ipynb\n",
    "unittest.main(argv=[''], verbosity=2, exit=False)"
   ]
  },
  {
   "cell_type": "markdown",
   "metadata": {},
   "source": [
    "Did this tutorial work as expected? Did you find any inconsistencies or have any comments? Please [contact](../../../CONTACT.rst) us. Any feedback is appreciated!"
   ]
  }
 ],
 "metadata": {
  "kernelspec": {
   "display_name": "Python 3",
   "language": "python",
   "name": "python3"
  },
  "language_info": {
   "codemirror_mode": {
    "name": "ipython",
    "version": 3
   },
   "file_extension": ".py",
   "mimetype": "text/x-python",
   "name": "python",
   "nbconvert_exporter": "python",
   "pygments_lexer": "ipython3",
   "version": "3.8.10"
  }
 },
 "nbformat": 4,
 "nbformat_minor": 2
}
