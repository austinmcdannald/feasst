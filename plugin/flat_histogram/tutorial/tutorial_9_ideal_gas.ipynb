{
 "cells": [
  {
   "cell_type": "markdown",
   "metadata": {},
   "source": [
    "# Ideal gas equation of state using grand canonical ensemble transition-matrix Monte Carlo\n",
    "\n",
    "In this example, the ideal gas equation of state is obtained as a test of the flat histogram method."
   ]
  },
  {
   "cell_type": "code",
   "execution_count": 1,
   "metadata": {},
   "outputs": [],
   "source": [
    "import feasst as fst\n",
    "\n",
    "monte_carlo = fst.MonteCarlo()\n",
    "monte_carlo.add(fst.Configuration(fst.MakeDomain(fst.args({\"cubic_box_length\": \"8\"})),\n",
    "                                  fst.args({\"particle_type\": fst.install_dir()+'/forcefield/data.atom'})))\n",
    "monte_carlo.add(fst.Potential(fst.MakeDontVisitModel()))\n",
    "criteria = fst.MakeFlatHistogram(\n",
    "    fst.MakeMacrostateNumParticles(fst.Histogram(fst.args({\"width\": \"1\", \"min\": \"0\", \"max\": \"50\"}))),\n",
    "    fst.MakeTransitionMatrix(fst.args({\"min_sweeps\": \"100\"})),\n",
    "    fst.args({\"beta\": str(1./1.2), \"chemical_potential\": \"-3\"}))\n",
    "monte_carlo.set(criteria)\n",
    "monte_carlo.add(fst.MakeTrialTransfer(fst.args({\"particle_type\": \"0\"})))\n",
    "monte_carlo.add(fst.MakeCriteriaUpdater(fst.args({\"steps_per\": str(1e5)})))\n",
    "monte_carlo.add(fst.MakeCriteriaWriter(fst.args({\"steps_per\": str(1e5), \"file_name\": \"id_fh.txt\"})))"
   ]
  },
  {
   "cell_type": "code",
   "execution_count": 2,
   "metadata": {},
   "outputs": [
    {
     "name": "stdout",
     "output_type": "stream",
     "text": [
      "CPU times: user 11.7 s, sys: 11.1 ms, total: 11.7 s\n",
      "Wall time: 11.7 s\n"
     ]
    }
   ],
   "source": [
    "%%time\n",
    "monte_carlo.run_until_complete()"
   ]
  },
  {
   "cell_type": "markdown",
   "metadata": {},
   "source": [
    "Check the ideal gas relationship, $\\beta P = \\rho$"
   ]
  },
  {
   "cell_type": "code",
   "execution_count": 3,
   "metadata": {},
   "outputs": [
    {
     "name": "stdout",
     "output_type": "stream",
     "text": [
      "rho beta*P difference\n",
      "0.0005525928807084006 0.0005524447899680177 1.48090740382926e-07\n",
      "0.0006107356478535072 0.0006105627467278755 1.7290112563168522e-07\n",
      "0.0006749966045572873 0.0006747957913424284 2.008132148589555e-07\n",
      "0.0007460192305781728 0.0007457873816922129 2.3184888595984866e-07\n",
      "0.000824514515492435 0.0008242486433600914 2.658721323436095e-07\n",
      "0.0009112679896123723 0.0009109654664323808 3.025231799915016e-07\n",
      "0.0010071474763284941 0.0010068063408849772 3.4113544351691873e-07\n",
      "0.0011131116386788394 0.0011127310062791287 3.806323997106349e-07\n",
      "0.0012302194001342702 0.0012297999991272715 4.1940100699864105e-07\n",
      "0.001359640327127634 0.0013591851896634023 4.551374642317377e-07\n",
      "0.001502666068424659 0.0015021814088851811 4.846595394777508e-07\n",
      "0.0016607229535468998 0.001660219276606663 5.036769402367268e-07\n",
      "0.0018353858585231431 0.0018348793517959604 5.065067271827275e-07\n",
      "0.0020283934518215865 0.002027907737541538 4.857142800484583e-07\n",
      "0.00224166493667871 0.002241233284449657 4.316522290528403e-07\n",
      "0.002477318410298419 0.0024769865480856923 3.3186221272667876e-07\n",
      "0.0027376909713078624 0.00273752066857142 1.70302736442543e-07\n",
      "0.003025360736406095 0.0030254343548394235 -7.361843332859275e-08\n",
      "0.0033431709963902337 0.003343597175154741 -4.2617876450752254e-07\n",
      "0.0036942568825637364 0.0036951773848169 -9.205022531637123e-07\n",
      "0.004082075167276604 0.004083672570585287 -1.5974033086832082e-06\n",
      "0.00451043822472286 0.004512943472507401 -2.5052477845410176e-06\n",
      "0.00498355373965181 0.004987251473300632 -3.6977336488218035e-06\n",
      "0.005506072410478143 0.005511300436883268 -5.228026405124965e-06\n",
      "0.006083146460836937 0.006090283832657691 -7.137371820753816e-06\n",
      "0.006720501889687276 0.006729938375096296 -9.436485409019223e-06\n",
      "0.007424526531159652 0.007436605668829197 -1.2079137669544944e-05\n",
      "0.008202373587889104 0.008217303451204984 -1.4929863315879185e-05\n",
      "0.00906207596374046 0.009079807790346535 -1.773182660607525e-05\n",
      "0.010012660591349025 0.010032746835154717 -2.008624380569167e-05\n",
      "0.01106424501124039 0.011085705286135571 -2.1460274895182194e-05\n",
      "0.01222809289775804 0.012249336678754474 -2.124378099643484e-05\n",
      "0.013516605131711289 0.013535478165863568 -1.8873034152279075e-05\n",
      "0.014943235664728735 0.014957260630974986 -1.4024966246251047e-05\n",
      "0.01652235743809415 0.016529207448875406 -6.850010781257049e-06\n",
      "0.01826916992969091 0.018267320814604603 1.8491150863067518e-06\n",
      "0.020199817408441793 0.02018916771194096 1.0649696500834166e-05\n",
      "0.022331900628626923 0.022313996195543064 1.7904433083859583e-05\n",
      "0.02468539611941974 0.0246629244501384 2.2471669281338286e-05\n",
      "0.02728361684889936 0.027259228702517138 2.4388146382222503e-05\n",
      "0.030153536575241405 0.030128701065585146 2.4835509656258997e-05\n",
      "0.03332513723147624 0.033299989819802 2.5147411674239506e-05\n",
      "0.03683061432079418 0.036804854768120544 2.575955267363622e-05\n",
      "0.040705121952649234 0.04067840741056535 2.6714542083881854e-05\n",
      "0.04498941749470409 0.0449595297637066 2.988773099748404e-05\n",
      "0.049731677154548674 0.04969155102580301 4.0126128745661405e-05\n",
      "0.054983240390959955 0.054922856482442 6.03839085179525e-05\n",
      "0.06077719022413854 0.06070636337781047 7.082684632807312e-05\n"
     ]
    }
   ],
   "source": [
    "import numpy as np\n",
    "\n",
    "volume = monte_carlo.configuration().domain().volume()\n",
    "print('rho beta*P difference')\n",
    "for delta_conjugate in np.arange(-5, 5, 0.1):\n",
    "        lnpirw = criteria.reweight(delta_conjugate)\n",
    "        if lnpirw.value(lnpirw.size()-1) < -6:\n",
    "            rho = criteria.average_macrostate(lnpirw)/volume\n",
    "            pressure = criteria.pressure(lnpirw, volume)\n",
    "            print(rho, criteria.beta()*pressure, rho - criteria.beta()*pressure)"
   ]
  },
  {
   "cell_type": "markdown",
   "metadata": {},
   "source": [
    "Did this tutorial work as expected? Did you find any inconsistencies or have any comments? Please [contact](../../../CONTACT.rst) us. Any feedback is appreciated!"
   ]
  }
 ],
 "metadata": {
  "kernelspec": {
   "display_name": "Python 3",
   "language": "python",
   "name": "python3"
  },
  "language_info": {
   "codemirror_mode": {
    "name": "ipython",
    "version": 3
   },
   "file_extension": ".py",
   "mimetype": "text/x-python",
   "name": "python",
   "nbconvert_exporter": "python",
   "pygments_lexer": "ipython3",
   "version": "3.6.10"
  }
 },
 "nbformat": 4,
 "nbformat_minor": 2
}
