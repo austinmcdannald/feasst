{
 "cells": [
  {
   "cell_type": "markdown",
   "metadata": {},
   "source": [
    "# Ideal gas equation of state using grand canonical ensemble transition-matrix Monte Carlo\n",
    "\n",
    "In this example, the ideal gas equation of state is obtained as a test of the flat histogram method."
   ]
  },
  {
   "cell_type": "code",
   "execution_count": 1,
   "metadata": {},
   "outputs": [],
   "source": [
    "import feasst as fst\n",
    "\n",
    "monte_carlo = fst.MonteCarlo()\n",
    "monte_carlo.add(fst.Configuration(fst.MakeDomain(fst.args({\"cubic_box_length\": \"8\"})),\n",
    "                                  fst.args({\"particle_type\": fst.install_dir()+'/forcefield/data.atom'})))\n",
    "monte_carlo.add(fst.Potential(fst.MakeDontVisitModel()))\n",
    "criteria = fst.MakeFlatHistogram(\n",
    "    fst.MakeMacrostateNumParticles(fst.Histogram(fst.args({\"width\": \"1\", \"min\": \"0\", \"max\": \"50\"}))),\n",
    "    fst.MakeTransitionMatrix(fst.args({\"min_sweeps\": \"100\"})),\n",
    "    fst.args({\"beta\": str(1./1.2), \"chemical_potential\": \"-3\"}))\n",
    "monte_carlo.set(criteria)\n",
    "monte_carlo.add(fst.MakeTrialTransfer(fst.args({\"particle_type\": \"0\"})))\n",
    "monte_carlo.add(fst.MakeCriteriaUpdater(fst.args({\"steps_per\": str(1e5)})))\n",
    "monte_carlo.add(fst.MakeCriteriaWriter(fst.args({\"steps_per\": str(1e5), \"file_name\": \"id_fh.txt\"})))"
   ]
  },
  {
   "cell_type": "code",
   "execution_count": 2,
   "metadata": {},
   "outputs": [
    {
     "name": "stdout",
     "output_type": "stream",
     "text": [
      "CPU times: user 14.1 s, sys: 35.7 ms, total: 14.1 s\n",
      "Wall time: 14.1 s\n"
     ]
    }
   ],
   "source": [
    "%%time\n",
    "monte_carlo.run_until_complete()"
   ]
  },
  {
   "cell_type": "markdown",
   "metadata": {},
   "source": [
    "Check the ideal gas relationship, $\\beta P = \\rho$"
   ]
  },
  {
   "cell_type": "code",
   "execution_count": 8,
   "metadata": {},
   "outputs": [
    {
     "name": "stdout",
     "output_type": "stream",
     "text": [
      "rho beta*P difference\n",
      "0.28302923815736475 0.28301519588466023 4.9614212283999315e-05\n",
      "0.312795905692762 0.31278165641233363 4.555456183741313e-05\n",
      "0.3456924258541493 0.34567867078436026 3.978990790731718e-05\n",
      "0.3820476496873907 0.3820353934099391 3.208049430913906e-05\n",
      "0.42222493578998094 0.422215560478481 2.220454242563008e-05\n",
      "0.4666257761980295 0.46662111893635566 9.98072097890823e-06\n",
      "0.5156938124331798 0.5156962371964694 4.701943733254055e-06\n",
      "0.5699192885900839 0.5699317388859424 2.1845717644186635e-05\n",
      "0.6298439954414403 0.629870005971223 4.129678137920756e-05\n",
      "0.6960667676720487 0.6961104033961372 6.268899208405898e-05\n",
      "0.769249605372934 0.7693152840242825 8.538015605052962e-05\n",
      "0.8501245004218537 0.850216640263716 0.00010838393884249342\n",
      "0.9395010575618238 0.9396234772808719 0.00013030290712578996\n",
      "1.038275007582188 1.0384299920915205 0.000149271154752606\n",
      "1.1474377141387466 1.14762465280196 0.00016291835357162832\n",
      "1.2680867739661859 1.268300282398902 0.00016837052250640028\n",
      "1.4014377996577432 1.4016652610187033 0.00016230571275843708\n",
      "1.5488374519002055 1.5490559685385403 0.0001410842939435497\n",
      "1.7117777517669701 1.7119505943294953 0.00010097254877083905\n",
      "1.8919116526216082 1.891984441639623 3.8473793379179e-05\n",
      "2.0910697871976676 2.090966848922048 4.9227565837250964e-05\n",
      "2.3112782342147717 2.3108998384423236 0.0001637171011462657\n",
      "2.554777082084833 2.5539985834882843 0.00030472271025427933\n",
      "2.8240395264141513 2.822713760873555 0.00046945714753487966\n",
      "3.1217912624231046 3.1197558295420484 0.0006520080011616081\n",
      "3.451030091187853 3.4481212585932592 0.0008428882153248551\n",
      "3.8150460514926166 3.811120737137287 0.0010289035315297346\n",
      "4.217443123905184 4.212409463150875 0.0011935337611970187\n",
      "4.662164637734867 4.6560197650340704 0.0013180299663939632\n",
      "5.15352565523851 5.146396581727638 0.0013833390940094503\n",
      "5.696256052592472 5.6884366870759955 0.0013727201593961569\n",
      "6.29555676603151 6.2875328707964195 0.0012745330609016392\n",
      "6.957168637503235 6.949624392677499 0.001084384355018786\n",
      "7.687451272818141 7.681254838278681 0.0008060453744103135\n",
      "8.493474647891624 8.489638420639126 0.00045166759324466454\n",
      "9.383143534142555 9.38273682041315 4.334514631743058e-05\n",
      "10.365393739456962 10.369351709264418 0.0003818446174783663\n",
      "11.450483186438953 11.459241699482657 0.0007649033583208009\n",
      "12.650307693569422 12.66327082704712 0.0010247287095068724\n",
      "13.978522029214224 13.993581255876386 0.0010773117952447286\n",
      "15.450184541881733 15.46375625638931 0.0008784176312448544\n",
      "17.080848182944784 17.08891893584623 0.00047250305224921796\n",
      "18.88548326532733 18.88572625052335 1.2866241896336561e-05\n",
      "20.878108281005115 20.87228169001655 0.000279076576773285\n",
      "23.073294188081928 23.06809505089662 0.0002253313784726929\n",
      "25.49010582362965 25.494317909129176 0.00016524393930206216\n",
      "28.155667396217364 28.174402896270113 0.0006654255354381355\n",
      "31.09790579841709 31.134709228992392 0.001183469742749521\n"
     ]
    }
   ],
   "source": [
    "import numpy as np\n",
    "\n",
    "volume = monte_carlo.configuration().domain().volume()\n",
    "gce = fst.GrandCanonicalEnsemble(criteria)\n",
    "print('rho beta*P difference')\n",
    "for delta_conjugate in np.arange(-5, 5, 0.1):\n",
    "        lnpirw = gce.reweight(delta_conjugate)\n",
    "        if lnpirw.value(lnpirw.size()-1) < -6:\n",
    "            betaPV = gce.betaPV()\n",
    "            N = gce.average_macrostate()\n",
    "            print(N, betaPV, np.abs(1 - betaPV/N))\n",
    "            assert(np.abs(1 - betaPV/N) < 1e-2)"
   ]
  },
  {
   "cell_type": "markdown",
   "metadata": {},
   "source": [
    "Did this tutorial work as expected? Did you find any inconsistencies or have any comments? Please [contact](../../../CONTACT.rst) us. Any feedback is appreciated!"
   ]
  }
 ],
 "metadata": {
  "kernelspec": {
   "display_name": "Python 3",
   "language": "python",
   "name": "python3"
  },
  "language_info": {
   "codemirror_mode": {
    "name": "ipython",
    "version": 3
   },
   "file_extension": ".py",
   "mimetype": "text/x-python",
   "name": "python",
   "nbconvert_exporter": "python",
   "pygments_lexer": "ipython3",
   "version": "3.7.6"
  }
 },
 "nbformat": 4,
 "nbformat_minor": 2
}
