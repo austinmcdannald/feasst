{
 "cells": [
  {
   "cell_type": "markdown",
   "metadata": {},
   "source": [
    "# Grand canonical ensemble transition-matrix Monte Carlo with SPC/E\n",
    "\n",
    "This example is similar to the Lennard Jones tutorial, except this time we simulate the SPC/E water model."
   ]
  },
  {
   "cell_type": "code",
   "execution_count": 1,
   "metadata": {},
   "outputs": [
    {
     "ename": "AttributeError",
     "evalue": "module 'feasst' has no attribute 'MakeFlatHistogram'",
     "output_type": "error",
     "traceback": [
      "\u001b[0;31m---------------------------------------------------------------------------\u001b[0m",
      "\u001b[0;31mAttributeError\u001b[0m                            Traceback (most recent call last)",
      "\u001b[0;32m<ipython-input-1-3f7e4b410274>\u001b[0m in \u001b[0;36m<module>\u001b[0;34m\u001b[0m\n\u001b[1;32m      3\u001b[0m \u001b[0;32mimport\u001b[0m \u001b[0mfeasst\u001b[0m\u001b[0;34m\u001b[0m\u001b[0;34m\u001b[0m\u001b[0m\n\u001b[1;32m      4\u001b[0m \u001b[0msys\u001b[0m\u001b[0;34m.\u001b[0m\u001b[0mpath\u001b[0m\u001b[0;34m.\u001b[0m\u001b[0minsert\u001b[0m\u001b[0;34m(\u001b[0m\u001b[0;36m0\u001b[0m\u001b[0;34m,\u001b[0m \u001b[0mfeasst\u001b[0m\u001b[0;34m.\u001b[0m\u001b[0minstall_dir\u001b[0m\u001b[0;34m(\u001b[0m\u001b[0;34m)\u001b[0m \u001b[0;34m+\u001b[0m \u001b[0;34m'/plugin/flat_histogram/tutorial/'\u001b[0m\u001b[0;34m)\u001b[0m\u001b[0;34m\u001b[0m\u001b[0;34m\u001b[0m\u001b[0m\n\u001b[0;32m----> 5\u001b[0;31m \u001b[0;32mimport\u001b[0m \u001b[0mfh\u001b[0m\u001b[0;34m\u001b[0m\u001b[0;34m\u001b[0m\u001b[0m\n\u001b[0m\u001b[1;32m      6\u001b[0m \u001b[0;32mimport\u001b[0m \u001b[0mrpm\u001b[0m\u001b[0;34m\u001b[0m\u001b[0;34m\u001b[0m\u001b[0m\n\u001b[1;32m      7\u001b[0m \u001b[0;34m\u001b[0m\u001b[0m\n",
      "\u001b[0;32m~/feasst/plugin/flat_histogram/tutorial/fh.py\u001b[0m in \u001b[0;36m<module>\u001b[0;34m\u001b[0m\n\u001b[1;32m     25\u001b[0m \u001b[0;34m\u001b[0m\u001b[0m\n\u001b[1;32m     26\u001b[0m def monte_carlo(proc=0,                          # processor number\n\u001b[0;32m---> 27\u001b[0;31m                 \u001b[0mcriteria\u001b[0m\u001b[0;34m=\u001b[0m\u001b[0mcriteria_flathist\u001b[0m\u001b[0;34m(\u001b[0m\u001b[0;34m)\u001b[0m\u001b[0;34m,\u001b[0m \u001b[0;31m# flat histogram criteria\u001b[0m\u001b[0;34m\u001b[0m\u001b[0;34m\u001b[0m\u001b[0m\n\u001b[0m\u001b[1;32m     28\u001b[0m                 \u001b[0msteps_per\u001b[0m\u001b[0;34m=\u001b[0m\u001b[0;36m1e5\u001b[0m\u001b[0;34m,\u001b[0m                   \u001b[0;31m# steps per analysis\u001b[0m\u001b[0;34m\u001b[0m\u001b[0;34m\u001b[0m\u001b[0m\n\u001b[1;32m     29\u001b[0m                 \u001b[0msystem\u001b[0m\u001b[0;34m=\u001b[0m\u001b[0mlj_system\u001b[0m\u001b[0;34m.\u001b[0m\u001b[0msystem\u001b[0m\u001b[0;34m(\u001b[0m\u001b[0mlj_system\u001b[0m\u001b[0;34m.\u001b[0m\u001b[0mconfiguration\u001b[0m\u001b[0;34m(\u001b[0m\u001b[0mbox_length\u001b[0m\u001b[0;34m=\u001b[0m\u001b[0;36m8\u001b[0m\u001b[0;34m,\u001b[0m \u001b[0mforcefield\u001b[0m\u001b[0;34m=\u001b[0m\u001b[0;34m\"data.lj\"\u001b[0m\u001b[0;34m)\u001b[0m\u001b[0;34m)\u001b[0m\u001b[0;34m,\u001b[0m\u001b[0;34m\u001b[0m\u001b[0;34m\u001b[0m\u001b[0m\n",
      "\u001b[0;32m~/feasst/plugin/flat_histogram/tutorial/fh.py\u001b[0m in \u001b[0;36mcriteria_flathist\u001b[0;34m(temperature, chemical_potential, macro_min, macro_max, tmmc, iterations)\u001b[0m\n\u001b[1;32m     13\u001b[0m                       iterations=20): # number of sweeps (TM) or flatness (WL)\n\u001b[1;32m     14\u001b[0m     \u001b[0;34m\"\"\"Return a flat histogram acceptance criteria with number of particles as the macrostate\"\"\"\u001b[0m\u001b[0;34m\u001b[0m\u001b[0;34m\u001b[0m\u001b[0m\n\u001b[0;32m---> 15\u001b[0;31m     criteria = feasst.MakeFlatHistogram(feasst.args(\n\u001b[0m\u001b[1;32m     16\u001b[0m         {\"beta\": str(1./temperature),\n\u001b[1;32m     17\u001b[0m          \"chemical_potential\": str(chemical_potential)}))\n",
      "\u001b[0;31mAttributeError\u001b[0m: module 'feasst' has no attribute 'MakeFlatHistogram'"
     ]
    }
   ],
   "source": [
    "import sys\n",
    "import unittest\n",
    "import feasst\n",
    "sys.path.insert(0, feasst.install_dir() + '/plugin/flat_histogram/tutorial/')\n",
    "import fh\n",
    "import rpm\n",
    "\n",
    "class TestFlatHistogramRPM(unittest.TestCase):\n",
    "    \"\"\"Test flat histogram grand canonical ensemble Monte Carlo simulations\"\"\"\n",
    "    def test_serial_15max(self, temperature=0.047899460618081):\n",
    "        \"\"\"Compare with https://doi.org/10.1063/1.5123683\"\"\"\n",
    "        R = feasst.CODATA2018().ideal_gas_constant()\n",
    "        criteria = fh.criteria_flathist(temperature=temperature,\n",
    "                                        chemical_potential=-13.94*temperature,\n",
    "                                        macro_min=0, macro_max=15, tmmc=True)\n",
    "        monte_carlo = fh.monte_carlo(criteria=criteria,\n",
    "                                     system=rpm.system())\n",
    "        lnpi_previous = [\n",
    "            [-2.8646724680467574586, 0.013169999365463097227],\n",
    "            [-1.9398627751910603179, 0.01178939015260997529],\n",
    "            [-1.5807236756003240075, 0.016351895458997890015],\n",
    "            [-1.5052807379855992487, 0.0066184482356891451496],\n",
    "            [-1.5966420919511339349, 0.0104786041905751727],\n",
    "            [-1.7783427365938460074, 0.029151132638980264272]\n",
    "        ]\n",
    "        energy_previous = [\n",
    "            [0, 1e-14], \n",
    "            [-0.0879115, 1.1293158298007674394e-06],\n",
    "            [-2.25995, 0.0038263972837305035464],\n",
    "            [-6.52141, 0.051998794872444117909],\n",
    "            [-12.9855, 0.25049856933159531103],\n",
    "            [-21.5192, 0.44650204517740099686],\n",
    "        ]\n",
    "        for macro in range(criteria.num_states()):\n",
    "            self.assertAlmostEqual(\n",
    "                lnpi_previous[macro][0],\n",
    "                criteria.bias().ln_prob().value(macro),\n",
    "                delta=5.*lnpi_previous[macro][1]\n",
    "            )\n",
    "            energy_analyzer = monte_carlo.analyze(monte_carlo.num_analyzers() - 1)\n",
    "            energy_accumulator = energy_analyzer.analyze(macro).accumulator()\n",
    "            stdev = (energy_previous[macro][1]**2 + energy_accumulator.block_stdev()**2)**(1./2.)\n",
    "            self.assertAlmostEqual(\n",
    "                energy_previous[macro][0],\n",
    "                energy_accumulator.average(),\n",
    "                #criteria.bias().ln_prob().value(macro),\n",
    "                delta=10*stdev\n",
    "            ) \n"
   ]
  },
  {
   "cell_type": "code",
   "execution_count": 2,
   "metadata": {},
   "outputs": [
    {
     "name": "stderr",
     "output_type": "stream",
     "text": [
      "test_serial_5max (__main__.TestFlatHistogramLJ)\n",
      "Compare the free energies and potential energies with the NIST SRSW ... "
     ]
    },
    {
     "name": "stdout",
     "output_type": "stream",
     "text": [
      "CPU times: user 1min 27s, sys: 1.01 s, total: 1min 28s\n",
      "Wall time: 1min 28s\n"
     ]
    },
    {
     "name": "stderr",
     "output_type": "stream",
     "text": [
      "ok\n",
      "\n",
      "----------------------------------------------------------------------\n",
      "Ran 1 test in 88.649s\n",
      "\n",
      "OK\n"
     ]
    },
    {
     "data": {
      "text/plain": [
       "<unittest.main.TestProgram at 0x7f854c0d59d0>"
      ]
     },
     "execution_count": 2,
     "metadata": {},
     "output_type": "execute_result"
    }
   ],
   "source": [
    "%%time\n",
    "unittest.main(argv=[''], verbosity=2, exit=False)"
   ]
  },
  {
   "cell_type": "markdown",
   "metadata": {},
   "source": [
    "Did this tutorial work as expected? Did you find any inconsistencies or have any comments? Please [contact](../../../CONTACT.rst) us. Any feedback is appreciated!"
   ]
  }
 ],
 "metadata": {
  "kernelspec": {
   "display_name": "Python 3",
   "language": "python",
   "name": "python3"
  },
  "language_info": {
   "codemirror_mode": {
    "name": "ipython",
    "version": 3
   },
   "file_extension": ".py",
   "mimetype": "text/x-python",
   "name": "python",
   "nbconvert_exporter": "python",
   "pygments_lexer": "ipython3",
   "version": "3.7.5"
  }
 },
 "nbformat": 4,
 "nbformat_minor": 2
}
