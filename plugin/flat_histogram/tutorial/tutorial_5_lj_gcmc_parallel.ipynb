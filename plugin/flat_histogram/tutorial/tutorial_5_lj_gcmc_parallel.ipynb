{
 "cells": [
  {
   "cell_type": "markdown",
   "metadata": {},
   "source": [
    "# Parallelize a flat histogram simulation\n",
    "\n",
    "A grand canonical ensemble transition-matrix Monte Carlo simulation is parallelized by dividing the macrostate ranges of each processor into overlapping windows.\n",
    "\n",
    "As an exercise, compare the macrostate probability distribution output for all windows with the individual windows in the files (crit#.txt).\n",
    "Attempt to unify these individual macrostate probability distributions."
   ]
  },
  {
   "cell_type": "code",
   "execution_count": 1,
   "metadata": {},
   "outputs": [],
   "source": [
    "import sys\n",
    "import unittest\n",
    "import multiprocessing as mp\n",
    "import feasst as fst\n",
    "import pyfeasst\n",
    "sys.path.insert(0, fst.install_dir() + '/plugin/flat_histogram/tutorial/')\n",
    "import fh\n",
    "\n",
    "class TestFlatHistogramLJGCMCparallel(unittest.TestCase):\n",
    "    def test(self):\n",
    "            windows=fst.WindowExponential(fst.args({\n",
    "              \"alpha\": \"2\",\n",
    "              \"num\": \"4\",\n",
    "              \"maximum\": \"50\",\n",
    "              \"extra_overlap\": \"2\"})).boundaries()\n",
    "            #windows=[[0,3],[1,16],[14,25]]\n",
    "            print(windows)\n",
    "\n",
    "            clones = fst.Clones()\n",
    "            for proc, win in enumerate(windows):\n",
    "                clones.add(fh.monte_carlo(proc=proc,\n",
    "                    criteria=fh.criteria_flathist(macro_min=win[0], macro_max=win[1]),\n",
    "                    run=False))\n",
    "            clones.initialize()\n",
    "            clones.run_until_complete()\n",
    "            print(clones.ln_prob().values())\n"
   ]
  },
  {
   "cell_type": "code",
   "execution_count": 2,
   "metadata": {},
   "outputs": [
    {
     "name": "stderr",
     "output_type": "stream",
     "text": [
      "test (__main__.TestFlatHistogramLJGCMCparallel) ... "
     ]
    },
    {
     "name": "stdout",
     "output_type": "stream",
     "text": [
      "((0, 25), (23, 35), (33, 43), (41, 50))\n",
      "(-96.9608205317803, -92.28175473702399, -88.28503947487422, -84.65898385665275, -81.33887991617596, -78.24143211664088, -75.299914328481, -72.51035737338374, -69.85882333710506, -67.29876962268315, -64.83962285110714, -62.46740610490529, -60.16466838495032, -57.94863057716537, -55.79201596752613, -53.69486847413283, -51.65002264668223, -49.66512843792507, -47.71207971878034, -45.82182792048205, -43.968214181087916, -42.15469446154233, -40.379958162713955, -38.63965075193218, -36.92196593629744, -35.23448347966558, -33.58398393400437, -31.972753878852807, -30.37018407267953, -28.790204767704335, -27.257656490255968, -25.7418978725922, -24.232834024564575, -22.756502427012556, -29.01788090859163, -19.859242402817504, -18.456435225190052, -17.074827569505192, -15.691505580594628, -14.329818318858697, -12.98294989909441, -11.65298645276876, -23.49434428081814, -9.049730284543513, -7.770769686623106, -6.49571445100011, -5.24117774190926, -3.989173604413905, -2.773747092340562, -1.5674760538491324, -0.3522115086581207)\n",
      "CPU times: user 49.1 s, sys: 4.28 s, total: 53.4 s\n",
      "Wall time: 13.3 s\n"
     ]
    },
    {
     "name": "stderr",
     "output_type": "stream",
     "text": [
      "ok\n",
      "\n",
      "----------------------------------------------------------------------\n",
      "Ran 1 test in 13.347s\n",
      "\n",
      "OK\n"
     ]
    },
    {
     "data": {
      "text/plain": [
       "<unittest.main.TestProgram at 0x7f5e75b60130>"
      ]
     },
     "execution_count": 2,
     "metadata": {},
     "output_type": "execute_result"
    }
   ],
   "source": [
    "%%time\n",
    "unittest.main(argv=[''], verbosity=2, exit=False)"
   ]
  },
  {
   "cell_type": "markdown",
   "metadata": {},
   "source": [
    "Did this tutorial work as expected? Did you find any inconsistencies or have any comments? Please [contact](../../../CONTACT.rst) us. Any feedback is appreciated!"
   ]
  }
 ],
 "metadata": {
  "kernelspec": {
   "display_name": "Python 3",
   "language": "python",
   "name": "python3"
  },
  "language_info": {
   "codemirror_mode": {
    "name": "ipython",
    "version": 3
   },
   "file_extension": ".py",
   "mimetype": "text/x-python",
   "name": "python",
   "nbconvert_exporter": "python",
   "pygments_lexer": "ipython3",
   "version": "3.8.2"
  }
 },
 "nbformat": 4,
 "nbformat_minor": 2
}
