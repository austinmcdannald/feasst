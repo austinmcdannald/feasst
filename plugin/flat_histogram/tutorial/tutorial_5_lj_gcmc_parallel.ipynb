{
 "cells": [
  {
   "cell_type": "markdown",
   "metadata": {},
   "source": [
    "# Parallelize a flat histogram simulation\n",
    "\n",
    "A grand canonical ensemble transition-matrix Monte Carlo simulation is parallelized by dividing the macrostate ranges of each processor into overlapping windows.\n",
    "\n",
    "As an exercise, compare the macrostate probability distribution output for all windows with the individual windows in the files (crit#.txt).\n",
    "Attempt to unify these individual macrostate probability distributions."
   ]
  },
  {
   "cell_type": "code",
   "execution_count": 2,
   "metadata": {},
   "outputs": [
    {
     "name": "stdout",
     "output_type": "stream",
     "text": [
      "((0, 35), (33, 50))\n",
      "(-97.29385639838257, -92.62272462606556, -88.66432173304669, -85.0988142689932, -81.79515837641618, -78.68841499533018, -75.7691397570993, -73.0169840038016, -70.35146954859034, -67.73944163491899, -65.24765030784586, -62.857044716837144, -60.52282831545335, -58.31584409202896, -56.15988939973713, -54.0491469063282, -51.97712129530957, -50.01007864195853, -48.02062352134634, -46.09701945187986, -44.23013557109019, -42.40275378169723, -40.64067309845258, -38.90498547864179, -37.158122895654955, -35.46353420972282, -33.808286194546326, -32.112497242834074, -30.519114994491307, -28.941418277823306, -27.359172118332086, -25.803793255743148, -24.253971353785165, -22.765900318633587, -21.294270695470946, -19.863104438616652, -18.4306651172522, -17.018856297025458, -15.65681319847861, -14.34987171111168, -12.994122297378322, -11.701739110841881, -10.384454242982118, -8.982530539291325, -7.724226650943317, -6.485190818390862, -5.241876736327754, -4.001146848626433, -2.7950182050146934, -1.5627544385738772, -0.3515345931482315)\n"
     ]
    }
   ],
   "source": [
    "import feasst as fst\n",
    "import pyfeasst\n",
    "\n",
    "def mc(thread, mn, mx):\n",
    "    steps_per=int(1e2)\n",
    "    mc = fst.MakeMonteCarlo()\n",
    "    mc.set(fst.lennard_jones())\n",
    "    mc.add(fst.MakeFlatHistogram(\n",
    "        fst.MakeMacrostateNumParticles(\n",
    "              fst.Histogram(fst.args({\"width\": \"1\", \"max\": str(mx), \"min\": str(mn)}))),\n",
    "        fst.MakeTransitionMatrix(fst.args({\"min_sweeps\": \"10\"})),\n",
    "        fst.args({\"beta\": str(1./1.5),\n",
    "                  \"chemical_potential\": \"-2.352321\"})))\n",
    "    mc.add(fst.MakeTrialTranslate(fst.args({\"weight\": \"1.\", \"tunable_param\": \"1.\"})))\n",
    "    mc.add(fst.MakeTrialTransfer(fst.args({\"particle_type\": \"0\", \"weight\": \"4\"})))\n",
    "    mc.add(fst.MakeCheckEnergyAndTune(fst.args({\"steps_per\": str(steps_per), \"tolerance\": \"0.0001\"})))\n",
    "    mc.add(fst.MakeLogAndMovie(fst.args({\"steps_per\": str(steps_per), \"file_name\": \"clones\" + str(thread)})))\n",
    "    mc.add(fst.MakeCriteriaUpdater(fst.args({\"steps_per\": str(steps_per)})))\n",
    "    mc.add(fst.MakeCriteriaWriter(fst.args({\n",
    "        \"steps_per\": str(steps_per),\n",
    "        \"file_name\": \"tmp/clones\" + str(thread) + \"_crit.txt\"})))\n",
    "    return mc\n",
    "\n",
    "windows=fst.WindowExponential(fst.args({\n",
    "  \"alpha\": \"2\",\n",
    "  \"num\": \"2\",\n",
    "  \"maximum\": \"50\",\n",
    "  \"extra_overlap\": \"2\"})).boundaries()\n",
    "print(windows)\n",
    "\n",
    "clones = fst.Clones()\n",
    "for proc, win in enumerate(windows):\n",
    "    clones.add(mc(proc, win[0], win[1]))\n",
    "clones.initialize_and_run_until_complete()\n",
    "print(clones.ln_prob().values())"
   ]
  },
  {
   "cell_type": "markdown",
   "metadata": {},
   "source": [
    "Did this tutorial work as expected? Did you find any inconsistencies or have any comments? Please [contact](../../../CONTACT.rst) us. Any feedback is appreciated!"
   ]
  }
 ],
 "metadata": {
  "kernelspec": {
   "display_name": "Python 3",
   "language": "python",
   "name": "python3"
  },
  "language_info": {
   "codemirror_mode": {
    "name": "ipython",
    "version": 3
   },
   "file_extension": ".py",
   "mimetype": "text/x-python",
   "name": "python",
   "nbconvert_exporter": "python",
   "pygments_lexer": "ipython3",
   "version": "3.8.2"
  }
 },
 "nbformat": 4,
 "nbformat_minor": 2
}
