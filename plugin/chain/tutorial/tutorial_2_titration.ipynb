{
 "cells": [
  {
   "cell_type": "markdown",
   "metadata": {},
   "source": [
    "# Polyelectrolyte with proton exchange\n",
    "\n",
    "\n",
    "In this example, a single polyelectrolyte chain is simulated with proton exchange with an implicit solvent.\n",
    "See https://doi.org/10.1063/1.4757284."
   ]
  },
  {
   "cell_type": "code",
   "execution_count": 9,
   "metadata": {
    "scrolled": true
   },
   "outputs": [],
   "source": [
    "import sys\n",
    "import unittest\n",
    "import feasst\n",
    "sys.path.insert(0, feasst.install_dir() + '/plugin/monte_carlo/tutorial/')\n",
    "import analyze\n",
    "\n",
    "def chain_config():\n",
    "    config = feasst.Configuration(feasst.args({\n",
    "        'cubic_box_length': '20',\n",
    "        'particle_type0': feasst.install_dir() + '/plugin/chain/forcefield/data.chain10titratable',\n",
    "        'particle_type1': feasst.install_dir() + '/forcefield/data.lj',\n",
    "    }))\n",
    "    config.add_particle_of_type(0)\n",
    "    return config\n",
    "\n",
    "class TestChain2Titration(unittest.TestCase):\n",
    "    \"\"\"Test a single polyelectrolyte simulation with proton exchange with implicit solvent\"\"\"\n",
    "    def test(self):\n",
    "        monte_carlo = feasst.MonteCarlo()\n",
    "        monte_carlo.set(feasst.MakeRandomMT19937(feasst.args({'seed': '1234'})))\n",
    "        monte_carlo.add(chain_config())\n",
    "        monte_carlo.add(feasst.Potential(feasst.MakeLennardJones()))\n",
    "        monte_carlo.add(feasst.Potential(feasst.MakeLennardJones(),\n",
    "                                         feasst.MakeVisitModelIntra(feasst.args({\"cutoff\": \"1\"}))))\n",
    "        monte_carlo.set(feasst.MakeMetropolis(feasst.args({\n",
    "            \"beta\": \"1.\",\n",
    "            \"chemical_potential0\": \"1.\",\n",
    "            \"chemical_potential1\": \"-5\",\n",
    "            \"pH\": \"1\"\n",
    "        })))\n",
    "        \n",
    "        # trials for chains\n",
    "        monte_carlo.add(feasst.MakeTrialTranslate(feasst.args({\"weight\": \"1.\", \"particle_type\": \"0\", \"tunable_param\": \"2\"})))\n",
    "        monte_carlo.add(feasst.MakeTrialRotate(feasst.args({\"weight\": \"1.\", \"particle_type\": \"0\", \"tunable_param\": \"50.\"})))\n",
    "        monte_carlo.add(feasst.MakeTrialPivot(feasst.args({\"weight\": \"1.\", \"particle_type\": \"0\", \"tunable_param\": \"50.\"})))\n",
    "        monte_carlo.add(feasst.MakeTrialCrankshaft(feasst.args({\"weight\": \"1.\", \"particle_type\": \"0\", \"tunable_param\": \"50.\"})))\n",
    "        monte_carlo.add(feasst.MakeTrialReptate(feasst.args({\"weight\": \"1.\", \"particle_type\": \"0\", \"max_length\": \"1\"})))\n",
    "        monte_carlo.add(feasst.MakeTrialSwapSites(feasst.args({\n",
    "            \"weight\": \"1.\",\n",
    "            \"particle_type\": \"0\",\n",
    "            \"site_type1\": \"0\",\n",
    "            \"site_type2\": \"1\"\n",
    "        })))\n",
    "        monte_carlo.add(feasst.MakeTrialGrowLinear(feasst.MakeTrialComputeMove(), feasst.args({\n",
    "            \"weight\": str(1./4./10.),\n",
    "            \"particle_type\": \"0\",\n",
    "            \"num_steps\": \"4\"\n",
    "        })))\n",
    "        feasst.add_deprotonation(monte_carlo, feasst.args({\n",
    "            \"reactant_type\": \"0\",\n",
    "            \"reactant_site_type\": \"0\",\n",
    "            \"new_site_type\": \"1\",\n",
    "            \"add_type\": \"1\",\n",
    "        }))\n",
    "        \n",
    "        # trials for counter ions\n",
    "        monte_carlo.add(feasst.MakeTrialTranslate(feasst.args({\"weight\": \"1.\", \"particle_type\": \"1\", \"tunable_param\": \"2\"})))\n",
    "        feasst.add_trial_transfer(monte_carlo, feasst.args({\"particle_type\": \"1\"}))\n",
    "        \n",
    "        # analysis\n",
    "        steps_per = int(1e3)\n",
    "        monte_carlo.add(feasst.MakeCheckEnergy(feasst.args({\"steps_per\": str(steps_per),\n",
    "                                                            \"tolerance\": str(1e-10)})))\n",
    "        monte_carlo.add(feasst.MakeLog(feasst.args({\"steps_per\": str(steps_per), \"file_name\": \"log.txt\",\n",
    "                                                    \"clear_file\": \"True\"})))\n",
    "        monte_carlo.add(feasst.MakeMovie(feasst.args({\"steps_per\": str(steps_per), \"file_name\": \"movie.xyz\",\n",
    "                                                      \"clear_file\": \"True\"})))\n",
    "        monte_carlo.add(feasst.MakeTuner(feasst.args({\"steps_per\": str(steps_per)})))\n",
    "        monte_carlo.add(feasst.MakeAnalyzeRigidBonds(feasst.args({\"steps_per\": str(steps_per)})))\n",
    "        self.assertEqual(monte_carlo.configuration().particle_type_to_group(0), 1)\n",
    "        monte_carlo.add(feasst.MakeRecenterParticles(feasst.args({\"steps_per\": str(int(1e2)),\n",
    "            \"group_index\": str(monte_carlo.configuration().particle_type_to_group(0))})))\n",
    "        monte_carlo.add(feasst.MakeCheckPhysicality(feasst.args({\"steps_per\": str(steps_per)})))\n",
    "        \n",
    "        monte_carlo.attempt(int(1e4))"
   ]
  },
  {
   "cell_type": "markdown",
   "metadata": {},
   "source": [
    "If the test passes, the energy is within the tolerance of the SRSW value and the two ensemble average methods agreed."
   ]
  },
  {
   "cell_type": "code",
   "execution_count": 10,
   "metadata": {},
   "outputs": [
    {
     "name": "stderr",
     "output_type": "stream",
     "text": [
      "test (__main__.TestChain2Titration) ... "
     ]
    },
    {
     "name": "stdout",
     "output_type": "stream",
     "text": [
      "CPU times: user 83.3 ms, sys: 3.87 ms, total: 87.2 ms\n",
      "Wall time: 86.2 ms\n"
     ]
    },
    {
     "name": "stderr",
     "output_type": "stream",
     "text": [
      "ok\n",
      "\n",
      "----------------------------------------------------------------------\n",
      "Ran 1 test in 0.084s\n",
      "\n",
      "OK\n"
     ]
    },
    {
     "data": {
      "text/plain": [
       "<unittest.main.TestProgram at 0x7f01e0136cd0>"
      ]
     },
     "execution_count": 10,
     "metadata": {},
     "output_type": "execute_result"
    }
   ],
   "source": [
    "%%time\n",
    "unittest.main(argv=[''], verbosity=2, exit=False)"
   ]
  },
  {
   "cell_type": "code",
   "execution_count": null,
   "metadata": {},
   "outputs": [],
   "source": []
  }
 ],
 "metadata": {
  "kernelspec": {
   "display_name": "Python 3",
   "language": "python",
   "name": "python3"
  },
  "language_info": {
   "codemirror_mode": {
    "name": "ipython",
    "version": 3
   },
   "file_extension": ".py",
   "mimetype": "text/x-python",
   "name": "python",
   "nbconvert_exporter": "python",
   "pygments_lexer": "ipython3",
   "version": "3.7.5"
  }
 },
 "nbformat": 4,
 "nbformat_minor": 2
}
