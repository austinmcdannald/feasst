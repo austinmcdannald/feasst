{
 "cells": [
  {
   "cell_type": "markdown",
   "metadata": {},
   "source": [
    "# Reference configuration of SPC/E water in non-cuboid domain"
   ]
  },
  {
   "cell_type": "code",
   "execution_count": 1,
   "metadata": {
    "execution": {
     "iopub.execute_input": "2021-09-09T16:37:31.473136Z",
     "iopub.status.busy": "2021-09-09T16:37:31.472226Z",
     "iopub.status.idle": "2021-09-09T16:37:31.529169Z",
     "shell.execute_reply": "2021-09-09T16:37:31.530072Z"
    }
   },
   "outputs": [],
   "source": [
    "import unittest\n",
    "import feasst as fst\n",
    "\n",
    "class TestEwald0SPCE(unittest.TestCase):\n",
    "    def test_srsw(self):\n",
    "        system = fst.System()\n",
    "        system.add(fst.MakeConfiguration(fst.args({\n",
    "            \"side_length0\": \"36.0\",\n",
    "            \"side_length1\": \"36.0\",\n",
    "            \"side_length2\": \"31.17691453623979\",\n",
    "            \"xy\": \"0.0\",\n",
    "            \"xz\": \"18.0\",\n",
    "            \"yz\": \"0.0\",\n",
    "            \"xyz_file\": fst.install_dir() + \"/plugin/charge/test/data/spce_monoclinic_sample_periodic4.xyz\",\n",
    "            \"particle_type0\": fst.install_dir() + \"/forcefield/spce.fstprt\",\n",
    "        })))\n",
    "        system.add(fst.MakePotential(fst.MakeLennardJones()))\n",
    "        system.add(fst.MakePotential(fst.MakeLongRangeCorrections()))\n",
    "        ewald = fst.MakeEwald(fst.args({\n",
    "            'alpha': str(5.6 / 24.),\n",
    "            #'kmax_squared': str(27)\n",
    "            'kxmax': str(5),\n",
    "            'kymax': str(5),\n",
    "            'kzmax': str(5)}))\n",
    "        system.add(fst.MakePotential(ewald))\n",
    "        system.add(fst.MakePotential(fst.MakeChargeScreened()))\n",
    "        system.add(fst.MakePotential(fst.MakeChargeScreenedIntra(),\n",
    "                                     fst.MakeVisitModelBond()))\n",
    "        system.add(fst.MakePotential(fst.MakeChargeSelf()))\n",
    "        system.energy()\n",
    "        print('num_vectors', ewald.num_vectors())\n",
    "        print('kxmax', ewald.kxmax())\n",
    "        print('kymax', ewald.kymax())\n",
    "        print('kzmax', ewald.kzmax())\n",
    "        print('num_kx', ewald.num_kx())\n",
    "        print('num_ky', ewald.num_ky())\n",
    "        print('num_kz', ewald.num_kz())\n",
    "        print('kmax_squared', ewald.kmax_squared())\n",
    "        self.assertAlmostEqual(system.stored_energy_profile()[0], 208.070232, delta=1e-4) #lj\n",
    "        self.assertAlmostEqual(system.stored_energy_profile()[1], -1.356010, delta=1e-4) #lrc\n",
    "        self.assertAlmostEqual(system.stored_energy_profile()[2], 99.00053785821709, delta=1e-4) #fourier\n",
    "        self.assertAlmostEqual(system.stored_energy_profile()[3], -1480.270495, delta=1e-4) #charge screened\n",
    "        self.assertAlmostEqual(system.stored_energy_profile()[4], 19545.391012, delta=1e-4) #intra\n",
    "        self.assertAlmostEqual(system.stored_energy_profile()[5], -19710.066962, delta=1e-4) #self\n"
   ]
  },
  {
   "cell_type": "markdown",
   "metadata": {},
   "source": [
    "If the test passes, the energy is within the tolerance of the SRSW value and the two ensemble average methods agreed."
   ]
  },
  {
   "cell_type": "code",
   "execution_count": 2,
   "metadata": {
    "execution": {
     "iopub.execute_input": "2021-09-09T16:37:31.536106Z",
     "iopub.status.busy": "2021-09-09T16:37:31.535432Z",
     "iopub.status.idle": "2021-09-09T17:08:23.038998Z",
     "shell.execute_reply": "2021-09-09T17:08:23.039434Z"
    }
   },
   "outputs": [
    {
     "name": "stderr",
     "output_type": "stream",
     "text": [
      "test_srsw (__main__.TestEwald0SPCE) ... "
     ]
    },
    {
     "name": "stdout",
     "output_type": "stream",
     "text": [
      "CPU times: user 3 µs, sys: 0 ns, total: 3 µs\n",
      "Wall time: 5.48 µs\n",
      "num_vectors 392\n",
      "kxmax 5\n",
      "kymax 5\n",
      "kzmax 5\n",
      "num_kx 6\n",
      "num_ky 11\n",
      "num_kz 11\n",
      "kmax_squared 1.0153913992890289\n"
     ]
    },
    {
     "name": "stderr",
     "output_type": "stream",
     "text": [
      "ok\n",
      "\n",
      "----------------------------------------------------------------------\n",
      "Ran 1 test in 0.021s\n",
      "\n",
      "OK\n"
     ]
    },
    {
     "data": {
      "text/plain": [
       "<unittest.main.TestProgram at 0x7f1f997ad970>"
      ]
     },
     "execution_count": 2,
     "metadata": {},
     "output_type": "execute_result"
    }
   ],
   "source": [
    "%time\n",
    "unittest.main(argv=[''], verbosity=2, exit=False)"
   ]
  },
  {
   "cell_type": "markdown",
   "metadata": {},
   "source": [
    "Did this tutorial work as expected? Did you find any inconsistencies or have any comments? Please [contact](../../../CONTACT.rst) us. Any feedback is appreciated!"
   ]
  }
 ],
 "metadata": {
  "kernelspec": {
   "display_name": "Python 3",
   "language": "python",
   "name": "python3"
  },
  "language_info": {
   "codemirror_mode": {
    "name": "ipython",
    "version": 3
   },
   "file_extension": ".py",
   "mimetype": "text/x-python",
   "name": "python",
   "nbconvert_exporter": "python",
   "pygments_lexer": "ipython3",
   "version": "3.8.10"
  }
 },
 "nbformat": 4,
 "nbformat_minor": 2
}
