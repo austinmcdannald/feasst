{
 "cells": [
  {
   "cell_type": "markdown",
   "metadata": {},
   "source": [
    "# Block average analysis for correlated data\n",
    "\n",
    "In this example, a random walk is performed in one dimension with periodic boundaries.\n",
    "The step size is chosen randomly uniform in [-1, 1], and the repeating cell is 25.\n",
    "Use the blocking method to find the standard deviation of the mean from uncorrelated data, and to estimate the correlation time (i.e., the number of steps until the particle could be anywhere in the repeating cell).\n",
    "\n",
    "For 1e6 steps, the error on the average position is about 0.08 with about 68% confidence, and a correlation time of roughly 2^10 steps."
   ]
  },
  {
   "cell_type": "code",
   "execution_count": 3,
   "metadata": {},
   "outputs": [],
   "source": [
    "import unittest\n",
    "import feasst as fst\n",
    "\n",
    "class TestBlockAv(unittest.TestCase):\n",
    "    def test(self, pbc_length=25, step_size=1, num_steps=int(1e6)):\n",
    "        av_position = fst.MakeAccumulator()\n",
    "        rng = fst.MakeRandomMT19937()\n",
    "        position = rng.uniform_real(-pbc_length/2, pbc_length/2)\n",
    "        for step in range(num_steps):\n",
    "            position += step_size*rng.uniform_real(-1, 1)\n",
    "            if position < -pbc_length/2:\n",
    "                position += pbc_length\n",
    "            elif position > pbc_length/2:\n",
    "                position -= pbc_length\n",
    "            av_position.accumulate(position)\n",
    "        for op in range(av_position.num_block_operations()):\n",
    "            print(op, av_position.block_stdev(op))\n",
    "        self.assertAlmostEqual(av_position.block_stdev(0), 0.08, delta=0.02)\n",
    "            \n",
    "        "
   ]
  },
  {
   "cell_type": "markdown",
   "metadata": {},
   "source": [
    "Run the tests."
   ]
  },
  {
   "cell_type": "code",
   "execution_count": 4,
   "metadata": {},
   "outputs": [
    {
     "name": "stderr",
     "output_type": "stream",
     "text": [
      "test (__main__.TestBlockAv) ... "
     ]
    },
    {
     "name": "stdout",
     "output_type": "stream",
     "text": [
      "0 0.007279624889800818\n",
      "1 0.009981009379597719\n",
      "2 0.013747443325121896\n",
      "3 0.018869854208119725\n",
      "4 0.025656792788198914\n",
      "5 0.03433663061577352\n",
      "6 0.04480952450893415\n",
      "7 0.055929255869954356\n",
      "8 0.06651935150112984\n",
      "9 0.07390759572408444\n",
      "10 0.07738532515282165\n",
      "11 0.08046088927385488\n",
      "12 0.08132666431776397\n",
      "13 0.08042866030848078\n",
      "14 0.07080093592020129\n",
      "15 0.06591092479135573\n",
      "16 0.05695546718326579\n",
      "17 0.06330260465452738\n",
      "18 0.07539972128194505\n",
      "19 0.0\n",
      "20 0.0\n",
      "21 0.0\n",
      "22 0.0\n",
      "23 0.0\n",
      "24 0.0\n"
     ]
    },
    {
     "name": "stderr",
     "output_type": "stream",
     "text": [
      "ok\n",
      "\n",
      "----------------------------------------------------------------------\n",
      "Ran 1 test in 1.850s\n",
      "\n",
      "OK\n"
     ]
    },
    {
     "data": {
      "text/plain": [
       "<unittest.main.TestProgram at 0x7feb44dcd610>"
      ]
     },
     "execution_count": 4,
     "metadata": {},
     "output_type": "execute_result"
    }
   ],
   "source": [
    "unittest.main(argv=[''], verbosity=2, exit=False)"
   ]
  },
  {
   "cell_type": "markdown",
   "metadata": {},
   "source": [
    "Did this tutorial work as expected? Did you find any inconsistencies or have any comments? Please [contact](../../../CONTACT.rst) us. Any feedback is appreciated!"
   ]
  }
 ],
 "metadata": {
  "kernelspec": {
   "display_name": "Python 3",
   "language": "python",
   "name": "python3"
  },
  "language_info": {
   "codemirror_mode": {
    "name": "ipython",
    "version": 3
   },
   "file_extension": ".py",
   "mimetype": "text/x-python",
   "name": "python",
   "nbconvert_exporter": "python",
   "pygments_lexer": "ipython3",
   "version": "3.8.10"
  }
 },
 "nbformat": 4,
 "nbformat_minor": 2
}
