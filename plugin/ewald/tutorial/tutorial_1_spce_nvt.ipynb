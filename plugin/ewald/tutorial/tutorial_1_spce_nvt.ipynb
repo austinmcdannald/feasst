{
 "cells": [
  {
   "cell_type": "markdown",
   "metadata": {},
   "source": [
    "# Canonical ensemble Monte Carlo of bulk SPC/E water\n",
    "\n",
    "\n",
    "In this example, we reproduce the average energy reported in https://doi.org/10.1063/1.476834"
   ]
  },
  {
   "cell_type": "code",
   "execution_count": 1,
   "metadata": {},
   "outputs": [],
   "source": [
    "import unittest\n",
    "import feasst as fst\n",
    "\n",
    "class TestEwald1SPCENVT(unittest.TestCase):\n",
    "    \"\"\"Test a canonical ensemble Lennard Jones Monte Carlo simulation\"\"\"\n",
    "    def test_srsw(self, num_particles=512, box_length=24.8586887, steps_per=1e5, temperature=298):\n",
    "        \"\"\"Compare with the reported average energy from https://doi.org/10.1063/1.476834.\n",
    "\n",
    "        num_particles -- number of water molecules\n",
    "        box_length -- box length in angstroms\n",
    "        steps_per -- steps between each Anaylze/Modify\n",
    "        temperature -- in Kelvin\n",
    "        \"\"\"\n",
    "\n",
    "        monte_carlo = fst.MonteCarlo()\n",
    "        # monte_carlo.set(fst.MakeRandomMT19937(fst.args({\"seed\": \"1234\"})))\n",
    "        # Original manuscript used rcut = L/2, but the default rcut in spce used here is 10\n",
    "        monte_carlo.set(fst.spce(fst.args({\n",
    "            \"cubic_box_length\": str(box_length),\n",
    "            \"physical_constants\": \"CODATA2010\",\n",
    "            \"alphaL\": \"5.6\",\n",
    "            \"kmax_squared\": \"38\",\n",
    "        })))\n",
    "        #monte_carlo.set(spce.system(\n",
    "        #    config,\n",
    "        #    rcut=config.domain().min_side_length()/2.))\n",
    "        R = monte_carlo.configuration().physical_constants().ideal_gas_constant()\n",
    "        monte_carlo.set(fst.MakeThermoParams(fst.args(\n",
    "            {\"beta\": str(1./(R*temperature/1e3)),\n",
    "             \"chemical_potential\": \"1.\"})))\n",
    "        monte_carlo.set(fst.MakeMetropolis())\n",
    "        monte_carlo.add(fst.MakeTrialTranslate(fst.args({\"weight\": \"1.\", \"tunable_param\": \"0.275\"})))\n",
    "        monte_carlo.add(fst.MakeTrialRotate(fst.args({\"weight\": \"1.\", \"tunable_param\": \"50\"})))\n",
    "        fst.SeekNumParticles(num_particles).with_trial_add().run(monte_carlo)\n",
    "        monte_carlo.add(fst.MakeLogAndMovie(fst.args({\n",
    "            \"steps_per\" : str(steps_per),\n",
    "            \"file_name\": \"spce\",\n",
    "            \"clear_file\": \"true\"})))\n",
    "        monte_carlo.add(fst.MakeCheckEnergyAndTune(fst.args({\"steps_per\" : str(steps_per),\n",
    "                                                             \"tolerance\": str(1e-6)})))\n",
    "\n",
    "        # equilibrate\n",
    "        monte_carlo.attempt(int(1e6))\n",
    "\n",
    "        # compute average energy using a stepper/analysis and output into file\n",
    "        energy = fst.MakeEnergy(fst.args({\n",
    "            \"steps_per_update\": \"1\",\n",
    "            \"steps_per_write\": str(steps_per),\n",
    "            \"file_name\": \"spce_nvt_energy.txt\"}))\n",
    "        monte_carlo.add(energy)\n",
    "\n",
    "        # compute average using this script\n",
    "        energy_alt = fst.Accumulator()\n",
    "\n",
    "        # production\n",
    "        for _ in range(int(1e6)):\n",
    "            monte_carlo.attempt()\n",
    "            energy_alt.accumulate(monte_carlo.criteria().current_energy())\n",
    "\n",
    "        # test that the two methods to compute average energy are the same\n",
    "        self.assertAlmostEqual(energy.energy().average(), energy_alt.average(), delta=1e-6)\n",
    "\n",
    "        # test the average against the NIST SRSW\n",
    "        num = monte_carlo.configuration().num_particles()\n",
    "        stdev = (energy.energy().block_stdev()**2 + (0.02*num)**2)**(1./2.)\n",
    "        print(energy.energy().average(), energy_alt.average(), stdev)\n",
    "        self.assertAlmostEqual(-46.82*num, energy.energy().average(), delta=8*stdev)"
   ]
  },
  {
   "cell_type": "markdown",
   "metadata": {},
   "source": [
    "If the test passes, the energy is within the tolerance of the SRSW value and the two ensemble average methods agreed."
   ]
  },
  {
   "cell_type": "code",
   "execution_count": 2,
   "metadata": {},
   "outputs": [
    {
     "name": "stderr",
     "output_type": "stream",
     "text": [
      "test_srsw (__main__.TestEwald1SPCENVT)\n",
      "Compare with the reported average energy from https://doi.org/10.1063/1.476834. ... "
     ]
    },
    {
     "name": "stdout",
     "output_type": "stream",
     "text": [
      "-23844.03832883373 -23844.03832883373 29.44706507790323\n",
      "CPU times: user 20min 14s, sys: 964 ms, total: 20min 15s\n",
      "Wall time: 20min 13s\n"
     ]
    },
    {
     "name": "stderr",
     "output_type": "stream",
     "text": [
      "ok\n",
      "\n",
      "----------------------------------------------------------------------\n",
      "Ran 1 test in 1213.842s\n",
      "\n",
      "OK\n"
     ]
    },
    {
     "data": {
      "text/plain": [
       "<unittest.main.TestProgram at 0x7f254c596198>"
      ]
     },
     "execution_count": 2,
     "metadata": {},
     "output_type": "execute_result"
    }
   ],
   "source": [
    "%%time\n",
    "unittest.main(argv=[''], verbosity=2, exit=False)"
   ]
  },
  {
   "cell_type": "markdown",
   "metadata": {},
   "source": [
    "Did this tutorial work as expected? Did you find any inconsistencies or have any comments? Please [contact](../../../CONTACT.rst) us. Any feedback is appreciated!"
   ]
  }
 ],
 "metadata": {
  "kernelspec": {
   "display_name": "Python 3",
   "language": "python",
   "name": "python3"
  },
  "language_info": {
   "codemirror_mode": {
    "name": "ipython",
    "version": 3
   },
   "file_extension": ".py",
   "mimetype": "text/x-python",
   "name": "python",
   "nbconvert_exporter": "python",
   "pygments_lexer": "ipython3",
   "version": "3.6.10"
  }
 },
 "nbformat": 4,
 "nbformat_minor": 2
}
