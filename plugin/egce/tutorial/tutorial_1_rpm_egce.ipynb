{
 "cells": [
  {
   "cell_type": "markdown",
   "metadata": {},
   "source": [
    "# Expanded grand canonical ensemble transition-matrix Monte Carlo with RPM\n",
    "\n",
    "In this example, the RPM model is simulated with expanded grand canonical ensembles.\n",
    "See https://doi.org/10.1063/1.5123683 "
   ]
  },
  {
   "cell_type": "code",
   "execution_count": 4,
   "metadata": {},
   "outputs": [],
   "source": [
    "import unittest\n",
    "import feasst as fst\n",
    "\n",
    "def rpm_egce(proc='', macro_min=0, macro_max=4):\n",
    "    monte_carlo = fst.MonteCarlo()\n",
    "    monte_carlo.set(fst.rpm(fst.args({\n",
    "        \"cubic_box_length\": \"12\",\n",
    "        \"cutoff\": \"4.891304347826090\",\n",
    "        \"alphaL\": \"6.87098396396261\"})))\n",
    "    temperature = 0.047899460618081\n",
    "    beta_mu = -13.94\n",
    "    monte_carlo.set(fst.MakeThermoParams(fst.args({\"beta\": str(1/temperature),\n",
    "                  \"chemical_potential0\": str(beta_mu*temperature),\n",
    "                  \"chemical_potential1\": str(beta_mu*temperature)})))\n",
    "    criteria = fst.MakeFlatHistogram(\n",
    "        fst.MakeMacrostateNumParticles(\n",
    "            fst.Histogram(fst.args({\"width\": \"1\", \"max\": str(macro_max), \"min\": str(macro_min)}))),\n",
    "        fst.MakeTransitionMatrix(fst.args({\"min_sweeps\": \"10\"})),\n",
    "        fst.MakeAEqualB(fst.args({\"extra_A\": \"1\"})))\n",
    "    monte_carlo.set(criteria)\n",
    "    monte_carlo.add(fst.MakeTrialTranslate(fst.args({\"weight\": \"0.25\", \"tunable_param\": \"0.1\"})))\n",
    "    monte_carlo.add(fst.MakeTrialTransfer(fst.args({\"weight\": \"1\", \"particle_type\": \"0\"})))\n",
    "    monte_carlo.add(fst.MakeTrialTransfer(fst.args({\"weight\": \"1\", \"particle_type\": \"1\"})))\n",
    "    steps_per = str(int(1e5))\n",
    "    monte_carlo.add(fst.MakeCriteriaUpdater(fst.args({\"steps_per\": steps_per})))\n",
    "    monte_carlo.add(fst.MakeCriteriaWriter(fst.args({\"steps_per\": steps_per, \"file_name\": \"crit\" + proc + \".txt\"})))\n",
    "    monte_carlo.add(fst.MakeLogAndMovie(fst.args({\"file_name\": \"rpm\" + proc, \"steps_per\": steps_per})))\n",
    "    monte_carlo.add(fst.MakeCheckEnergyAndTune(fst.args({\"steps_per\": steps_per})))\n",
    "    energy = fst.MakeEnergy(fst.args({\"file_name\": \"rpm_fh_energy\" + proc,\n",
    "                                      \"steps_per_update\": \"1\",\n",
    "                                      \"steps_per_write\": steps_per,\n",
    "                                      \"multistate\": \"true\"}))\n",
    "    monte_carlo.add(energy)\n",
    "    return monte_carlo\n",
    "        \n",
    "class TestEGCERPM(unittest.TestCase):\n",
    "    \"\"\"Test flat histogram grand canonical ensemble Monte Carlo simulations\"\"\"\n",
    "    def test_serial_4max(self):\n",
    "        \"\"\"Compare the free energies and potential energies with the previously\n",
    "        published values: https://doi.org/10.1063/1.5123683\n",
    "        \"\"\"\n",
    "        monte_carlo=rpm_egce(macro_min=0, macro_max=4)\n",
    "        monte_carlo.run_until_complete()\n",
    "        \n",
    "        lnpi_previous = [\n",
    "            [-1.2994315780357, 0.05],\n",
    "            [-1.08646312498868, 0.05],\n",
    "            [-0.941850889679828, 0.05]]\n",
    "        energy_previous = [\n",
    "            [0, 1e-14],\n",
    "            [-0.115474, 1e-6],\n",
    "            [-0.939408, 0.02],\n",
    "            [-1.32485, 0.03],\n",
    "            [-2.02625, 0.04]]\n",
    "        \n",
    "        # reduce the lnpi by skipping every other macrostate (when A = B + 1)\n",
    "        fh = fst.FlatHistogram(monte_carlo.criteria())\n",
    "        lnpi5 = fh.bias().ln_prob()\n",
    "        lnpi3 = lnpi5.reduce(2)\n",
    "        \n",
    "        for macro in range(lnpi3.size()):\n",
    "            self.assertAlmostEqual(\n",
    "                lnpi_previous[macro][0],\n",
    "                lnpi3.value(macro),\n",
    "                delta=5.*lnpi_previous[macro][1])\n",
    "\n",
    "        for macro in range(fh.num_states()):\n",
    "            energy_analyzer = monte_carlo.analyze(monte_carlo.num_analyzers() - 1)\n",
    "            energy_accumulator = energy_analyzer.analyze(macro).accumulator()\n",
    "            stdev = (energy_previous[macro][1]**2 + energy_accumulator.block_stdev()**2)**(1./2.)\n",
    "            self.assertAlmostEqual(\n",
    "                energy_previous[macro][0],\n",
    "                energy_accumulator.average(),\n",
    "                delta=10*stdev)\n",
    "\n",
    "    def test_parallel(self):\n",
    "        windows=fst.WindowExponential(fst.args({\n",
    "            \"alpha\": \"2\",\n",
    "            \"num\": \"4\",\n",
    "            \"maximum\": \"650\",\n",
    "            \"extra_overlap\": \"2\"})).boundaries()\n",
    "        #windows=[[0,3],[1,16],[14,25]]\n",
    "        print(windows)\n",
    "\n",
    "        clones = fst.Clones()\n",
    "        for proc, win in enumerate(windows):\n",
    "            clones.add(rpm_egce(macro_min=win[0], macro_max=win[1], proc=str(proc)))\n",
    "        clones.initialize_and_run_until_complete()\n",
    "        print(clones.ln_prob().values())"
   ]
  },
  {
   "cell_type": "code",
   "execution_count": 5,
   "metadata": {},
   "outputs": [
    {
     "name": "stderr",
     "output_type": "stream",
     "text": [
      "."
     ]
    },
    {
     "name": "stdout",
     "output_type": "stream",
     "text": [
      "CPU times: user 24.4 s, sys: 51.5 ms, total: 24.4 s\n",
      "Wall time: 24.3 s\n"
     ]
    },
    {
     "name": "stderr",
     "output_type": "stream",
     "text": [
      "\n",
      "----------------------------------------------------------------------\n",
      "Ran 1 test in 24.298s\n",
      "\n",
      "OK\n"
     ]
    },
    {
     "data": {
      "text/plain": [
       "<unittest.runner.TextTestResult run=1 errors=0 failures=0>"
      ]
     },
     "execution_count": 5,
     "metadata": {},
     "output_type": "execute_result"
    }
   ],
   "source": [
    "%%time\n",
    "\n",
    "def suite():\n",
    "    suite = unittest.TestSuite()\n",
    "    suite.addTest(TestEGCERPM('test_serial_4max'))\n",
    "    # suite.addTest(TestEGCERPM('test_parallel'))\n",
    "    return suite\n",
    "\n",
    "runner = unittest.TextTestRunner()\n",
    "runner.run(suite())\n",
    "#unittest.main(argv=[''], verbosity=2, exit=False)"
   ]
  },
  {
   "cell_type": "markdown",
   "metadata": {},
   "source": [
    "Did this tutorial work as expected? Did you find any inconsistencies or have any comments? Please [contact](../../../CONTACT.rst) us. Any feedback is appreciated!"
   ]
  }
 ],
 "metadata": {
  "kernelspec": {
   "display_name": "Python 3",
   "language": "python",
   "name": "python3"
  },
  "language_info": {
   "codemirror_mode": {
    "name": "ipython",
    "version": 3
   },
   "file_extension": ".py",
   "mimetype": "text/x-python",
   "name": "python",
   "nbconvert_exporter": "python",
   "pygments_lexer": "ipython3",
   "version": "3.6.10"
  }
 },
 "nbformat": 4,
 "nbformat_minor": 2
}
