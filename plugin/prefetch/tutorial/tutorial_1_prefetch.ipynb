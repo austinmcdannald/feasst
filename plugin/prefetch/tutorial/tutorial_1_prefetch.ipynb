{
 "cells": [
  {
   "cell_type": "markdown",
   "metadata": {},
   "source": [
    "# Prefetch example"
   ]
  },
  {
   "cell_type": "code",
   "execution_count": 2,
   "metadata": {},
   "outputs": [
    {
     "name": "stdout",
     "output_type": "stream",
     "text": [
      "num_particles 54\n",
      "target_acceptance 0.2\n",
      "tunable_param 0.185\n"
     ]
    }
   ],
   "source": [
    "import sys\n",
    "import feasst\n",
    "sys.path.insert(0, feasst.install_dir() + '/plugin/system/tutorial/')\n",
    "import lj_system\n",
    "sys.path.insert(0, feasst.install_dir() + '/plugin/monte_carlo/tutorial/')\n",
    "import analyze\n",
    "\n",
    "def lj_system(box_length, cutoff):\n",
    "    system = feasst.System()\n",
    "    config = feasst.Configuration(feasst.args({\n",
    "        \"cubic_box_length\": str(box_length),\n",
    "        \"particle_type\": feasst.install_dir() + '/forcefield/data.lj',\n",
    "        # \"init_cells\": \"1.\",\n",
    "    }))\n",
    "    config.set_model_param(\"cutoff\", 0, cutoff);\n",
    "    system.add(config)\n",
    "    system.add(feasst.Potential(feasst.MakeLennardJones()))\n",
    "    if system.configuration().domain().is_cell_enabled():\n",
    "        #system.add_to_optimized(feasst.Potential(feasst.MakeLennardJones(), feasst.MakeVisitModelCell()))\n",
    "        system.add_to_reference(feasst.Potential(feasst.MakeHardSphere(), feasst.MakeVisitModelCell()))\n",
    "    return system\n",
    "\n",
    "def mc(target_acceptance=0.2,\n",
    "       tunable_param=0.185,\n",
    "       density=0.85,\n",
    "       cutoff=2,\n",
    "       temperature=0.88,\n",
    "       steps_per=int(1e6),\n",
    "       ):\n",
    "    box_length = 2*cutoff\n",
    "    file_app = \"_a\" + str(target_acceptance) + \"_r\" + str(cutoff)\n",
    "    num_particles=int(density*box_length**3)\n",
    "    print('num_particles', num_particles)\n",
    "    print('target_acceptance', target_acceptance)\n",
    "    print('tunable_param', tunable_param)\n",
    "\n",
    "    monte_carlo = feasst.Prefetch(feasst.args({\"steps_per_check\": \"10000000\"}))\n",
    "    monte_carlo.activate_prefetch(False)\n",
    "    monte_carlo.set(lj_system(box_length=box_length, cutoff=cutoff))\n",
    "    monte_carlo.set(feasst.MakeMetropolis(feasst.args({\n",
    "        \"beta\": str(1./temperature),\n",
    "        \"chemical_potential\": \"1.\",\n",
    "    })))\n",
    "    monte_carlo.add(feasst.MakeTrialTranslate(feasst.args({\n",
    "        \"weight\": \"1.\",\n",
    "        \"tunable_param\": \"2.\",\n",
    "        \"tunable_param\": str(tunable_param),\n",
    "        \"tunable_target_acceptance\": str(target_acceptance),\n",
    "        \"tunable_percent_change\": \"0.01\",\n",
    "        # \"num_steps\": \"4\",\n",
    "        # \"reference_index\": \"0\",\n",
    "    })))\n",
    "    monte_carlo.seek_num_particles(num_particles)\n",
    "    analyze.add(monte_carlo,\n",
    "        steps_per,\n",
    "        proc=file_app,\n",
    "        log=\"log\"+file_app+\".txt\",\n",
    "        )\n",
    "\n",
    "    #equilibrate\n",
    "    monte_carlo.attempt(int(1e6))\n",
    "\n",
    "    monte_carlo.activate_prefetch(True)\n",
    "    monte_carlo.add(feasst.MakeMeanSquaredDisplacement(feasst.args({\n",
    "        \"steps_per_update\": \"10000\",\n",
    "        \"updates_per_origin\": \"1000\",\n",
    "        \"file_name\": \"msd\" + file_app + \".txt\",\n",
    "        \"steps_per_write\": str(int(1e5))\n",
    "    })))\n",
    "    monte_carlo.add(feasst.MakeCPUTime(feasst.args({\n",
    "        \"steps_per_update\": str(steps_per),\n",
    "        \"steps_per_write\": str(steps_per),\n",
    "        \"file_name\": \"cpu\" + file_app + \".txt\",\n",
    "    })))\n",
    "    monte_carlo.attempt(int(1e7))\n",
    "\n",
    "mc()"
   ]
  }
 ],
 "metadata": {
  "kernelspec": {
   "display_name": "Python 3",
   "language": "python",
   "name": "python3"
  },
  "language_info": {
   "codemirror_mode": {
    "name": "ipython",
    "version": 3
   },
   "file_extension": ".py",
   "mimetype": "text/x-python",
   "name": "python",
   "nbconvert_exporter": "python",
   "pygments_lexer": "ipython3",
   "version": "3.7.4"
  }
 },
 "nbformat": 4,
 "nbformat_minor": 2
}
