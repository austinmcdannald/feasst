{
 "cells": [
  {
   "cell_type": "markdown",
   "metadata": {},
   "source": [
    "# Lennard Jones reference configuration"
   ]
  },
  {
   "cell_type": "code",
   "execution_count": 5,
   "metadata": {},
   "outputs": [],
   "source": [
    "import unittest\n",
    "import feasst as fst\n",
    "\n",
    "def two_part_sys(distance, fstprt, model=fst.MakeLennardJonesAlpha(fst.args({\"alpha\": \"12\"}))):\n",
    "    system = fst.System()\n",
    "    config = fst.MakeConfiguration(fst.args({\"cubic_box_length\": \"8\"}))\n",
    "    config.add(fst.MakeDeltaSigma())\n",
    "    config.add_particle_type(fstprt)\n",
    "    config.add_particle_of_type(0)\n",
    "    config.add_particle_of_type(0)\n",
    "    system.add(config)\n",
    "    system.add(fst.MakePotential(model))\n",
    "    system.get_configuration().update_positions(fst.Double2DVector([\n",
    "        [0., 0., 0.],\n",
    "        [distance, 0., 0.]]))\n",
    "    system.energy()\n",
    "    return system\n",
    "\n",
    "class TestLennardJonesAlpha(unittest.TestCase):\n",
    "    \"\"\"The FEASST implementation of the LJ potential is tested against known cases.\"\"\"\n",
    "    def test_two_particle(self):\n",
    "        \"\"\"Test the LJ potential against analytical calculation of two particles\"\"\"\n",
    "        displacement = 1.2345\n",
    "        system = two_part_sys(distance=displacement, \n",
    "                              fstprt=fst.install_dir() + \"/forcefield/lj.fstprt\")\n",
    "        enlj = 4*(displacement**(-24) - displacement**(-12))\n",
    "        self.assertAlmostEqual(enlj, system.stored_energy(), 15)\n",
    "        system = two_part_sys(distance=displacement, \n",
    "                              fstprt=fst.install_dir() + \"/plugin/models/forcefield/ljdelta.fstprt\")\n",
    "        enlj = 4*((displacement + 0.5)**(-24) - (displacement + 0.5)**(-12))\n",
    "        self.assertAlmostEqual(enlj, system.stored_energy(), 15)\n",
    "        \n",
    "#         %matplotlib inline\n",
    "#         import matplotlib.pyplot as plt\n",
    "#         import numpy as np\n",
    "#         r = np.arange(0.4, 2, 0.005)\n",
    "#         enlj = list()\n",
    "#         enljdelta = list()\n",
    "#         model = fst.MakeLennardJonesAlpha(fst.args({\"alpha\": \"12\"}))\n",
    "#         #model = fst.MakeLennardJonesCutShift(fst.args({\"alpha\": \"6\"}))\n",
    "#         for disp in r:\n",
    "#             system = two_part_sys(distance=disp,\n",
    "#                                   model=model,\n",
    "#                                   fstprt=fst.install_dir() + \"/forcefield/lj.fstprt\")\n",
    "#             enlj.append(system.stored_energy())\n",
    "#             system = two_part_sys(distance=disp,\n",
    "#                                   model=model,\n",
    "#                                   fstprt=fst.install_dir() + \"/plugin/models/forcefield/ljdelta.fstprt\")\n",
    "#             enljdelta.append(system.stored_energy())\n",
    "#         plt.ylim([-1, 1])\n",
    "#         plt.plot(r, enlj, label='enlj')\n",
    "#         plt.plot(r+0.5, enljdelta, label='enljdelta')\n",
    "#         plt.legend()\n",
    "        "
   ]
  },
  {
   "cell_type": "markdown",
   "metadata": {},
   "source": [
    "Run the tests."
   ]
  },
  {
   "cell_type": "code",
   "execution_count": 6,
   "metadata": {},
   "outputs": [
    {
     "name": "stderr",
     "output_type": "stream",
     "text": [
      "test_two_particle (__main__.TestLennardJonesAlpha)\n",
      "Test the LJ potential against analytical calculation of two particles ... ok\n",
      "\n",
      "----------------------------------------------------------------------\n",
      "Ran 1 test in 0.002s\n",
      "\n",
      "OK\n"
     ]
    },
    {
     "data": {
      "text/plain": [
       "<unittest.main.TestProgram at 0x7f135fecfca0>"
      ]
     },
     "execution_count": 6,
     "metadata": {},
     "output_type": "execute_result"
    }
   ],
   "source": [
    "unittest.main(argv=[''], verbosity=2, exit=False)"
   ]
  },
  {
   "cell_type": "markdown",
   "metadata": {},
   "source": [
    "Did this tutorial work as expected? Did you find any inconsistencies or have any comments? Please [contact](../../../CONTACT.rst) us. Any feedback is appreciated!"
   ]
  }
 ],
 "metadata": {
  "kernelspec": {
   "display_name": "Python 3",
   "language": "python",
   "name": "python3"
  },
  "language_info": {
   "codemirror_mode": {
    "name": "ipython",
    "version": 3
   },
   "file_extension": ".py",
   "mimetype": "text/x-python",
   "name": "python",
   "nbconvert_exporter": "python",
   "pygments_lexer": "ipython3",
   "version": "3.8.10"
  }
 },
 "nbformat": 4,
 "nbformat_minor": 2
}
